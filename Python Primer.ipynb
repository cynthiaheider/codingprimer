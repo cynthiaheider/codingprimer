{
  "nbformat": 4,
  "nbformat_minor": 0,
  "metadata": {
    "colab": {
      "provenance": []
    },
    "kernelspec": {
      "name": "python3",
      "display_name": "Python 3"
    },
    "language_info": {
      "name": "python"
    }
  },
  "cells": [
    {
      "cell_type": "code",
      "execution_count": null,
      "metadata": {
        "id": "_s1zXp8PkBuX"
      },
      "outputs": [],
      "source": [
        "### Print statements ###\n",
        "\n",
        "#print(...)"
      ]
    },
    {
      "cell_type": "code",
      "source": [],
      "metadata": {
        "id": "Js-JlHo9nJbu"
      },
      "execution_count": null,
      "outputs": []
    },
    {
      "cell_type": "code",
      "source": [
        "### Data types ###\n",
        "\n",
        "# boolean (true/false)\n",
        "### my_bool = True\n",
        "\n",
        "# int (integer)\n",
        "### my_int = 3\n",
        "\n",
        "# float (floating point number, AKA decimal)\n",
        "### my_float = 4.597\n",
        "\n",
        "# string (character sequence, i.e. a word)\n",
        "### my_string = 'This is my string.'\n",
        "\n",
        "# list (list of items)\n",
        "### my_list = [1, 2, 3, 'a', 'b', 'c']\n",
        "\n",
        "# tuple (like a list, but can't be overwritten)\n",
        "### my_tuple = (10, 20, 30, 'a', 'b', 'c')\n",
        "\n",
        "# dictionary (used for paired data sets, AKA key-value pairs)\n",
        "#my_dictionary = {\n",
        "#  \"make\": \"Honda\",\n",
        "#  \"model\": \"Accord\",\n",
        "#  \"year\": 2012,\n",
        "#  \"mpg\": 32.6\n",
        "#}"
      ],
      "metadata": {
        "id": "dXeNI51SkMV0"
      },
      "execution_count": null,
      "outputs": []
    },
    {
      "cell_type": "code",
      "source": [],
      "metadata": {
        "id": "-RrnZlDyygE0"
      },
      "execution_count": null,
      "outputs": []
    },
    {
      "cell_type": "code",
      "source": [
        "### List indexes ###\n",
        "\n",
        "### To grab a particular item in a list, you can call it by its index\n",
        "### Python is \"zero-indexed\", so the first item in the list is at index 0\n",
        "### So in the following list...\n",
        "\n",
        "#letters = ['B', 'C', 'A']\n",
        "\n",
        "### 'B' is the 0th item, 'C' is the 1st item, and 'A' is the 2nd item\n",
        "### So if you wanted to print just 'C'...\n",
        "\n",
        "#print(letters[1])\n",
        "\n",
        "\n",
        "### Nested lists ###\n",
        "\n",
        "### Lists can be nested inside other lists. For example:\n",
        "\n",
        "#nested_list = [1, 2, 3, [4, 5, 6]]\n",
        "\n",
        "### The length of nested_list is 4. Its elements are 1, 2, 3, and the sublist [4, 5, 6]\n",
        "### If you wanted to grab an element from the sublist, you would call the index of the\n",
        "### sublist, followed by the index in the sublist. As an example, to grab the 5...\n",
        "\n",
        "#print(nested_list[3][1])\n",
        "\n",
        "### The first parameter, 3, is the index of the sublist, and the second parameter is the\n",
        "### index of the 5 within the sublist."
      ],
      "metadata": {
        "id": "Q4runVvgyfzj"
      },
      "execution_count": null,
      "outputs": []
    },
    {
      "cell_type": "code",
      "source": [],
      "metadata": {
        "id": "KTc8hqYh08ap"
      },
      "execution_count": null,
      "outputs": []
    },
    {
      "cell_type": "code",
      "source": [
        "### List methods ###\n",
        "\n",
        "### List methods operate on a list. They are formatted as listname.method()\n",
        "### Common ones include:\n",
        "\n",
        "###append() - adds item to the end of a list\n",
        "#letters.append('D') --> ['B', 'C', 'A', 'D']\n",
        "\n",
        "###count() - counts the number of times an element appears\n",
        "#letters.count('B') --> 1\n",
        "\n",
        "###pop() - removes and returns the item at the specified index\n",
        "#letters.pop(2) --> A\n",
        "\n",
        "###insert() - inserts item at specified index\n",
        "#letters.insert(1, 'E') --> ['B', 'E', 'C', 'A', 'D']\n",
        "\n",
        "###sort() - sorts list\n",
        "#letters.sort() --> ['A', 'B', 'C', 'D', 'E']"
      ],
      "metadata": {
        "id": "DNeWWCMY08RK"
      },
      "execution_count": null,
      "outputs": []
    },
    {
      "cell_type": "code",
      "source": [],
      "metadata": {
        "id": "ysyVSNXB7YXx"
      },
      "execution_count": null,
      "outputs": []
    },
    {
      "cell_type": "code",
      "source": [
        "### List functions ###\n",
        "\n",
        "###len(x) - returns the length of a list\n",
        "#len(letters) --> 5\n",
        "\n",
        "###min(x) - returns the minimum value of a list\n",
        "#min(letters) --> A\n",
        "\n",
        "###max(x) - returns the maximum value of a list\n",
        "#max(letters) --> E"
      ],
      "metadata": {
        "id": "Ywv5K1eb7YOc"
      },
      "execution_count": null,
      "outputs": []
    },
    {
      "cell_type": "code",
      "source": [],
      "metadata": {
        "id": "Mk464RYDpW6c"
      },
      "execution_count": null,
      "outputs": []
    },
    {
      "cell_type": "code",
      "source": [
        "### Conditionals ###\n",
        "# \"If A, do B. Otherwise, if C, do D.\"\n",
        "\n",
        "#if [CONDITION 1]:\n",
        "#  [DO SOMETHING]\n",
        "#elif [CONDITION 2]:\n",
        "#  [DO SOMETHING ELSE]\n",
        "#else:\n",
        "#  [DO SOMETHING ELSE]"
      ],
      "metadata": {
        "id": "8DnmIdkZpVTh"
      },
      "execution_count": null,
      "outputs": []
    },
    {
      "cell_type": "code",
      "source": [],
      "metadata": {
        "id": "efCtj_BdqTi5"
      },
      "execution_count": null,
      "outputs": []
    },
    {
      "cell_type": "code",
      "source": [
        "### 'For' loops ###\n",
        "# \"For each item in a series, do something.\"\n",
        "\n",
        "#pets = [\"dog\", \"cat\", \"gerbil\"]\n",
        "#for p in pets:\n",
        "#  print(p)\n",
        "\n",
        "#for x in \"banana\":\n",
        "#  print(x)\n",
        "\n",
        "#for n in range(5): # i.e. for every number in the range of 0 to 4 (5 minus 1)\n",
        "#  print(n)\n",
        "\n",
        "#for i in range(2,7,2): # The three arguments are (start, stop, step)\n",
        "#  print(i)"
      ],
      "metadata": {
        "id": "n42VV4QJqTMI"
      },
      "execution_count": null,
      "outputs": []
    },
    {
      "cell_type": "code",
      "source": [],
      "metadata": {
        "id": "-jk-OpZyvkGP"
      },
      "execution_count": null,
      "outputs": []
    },
    {
      "cell_type": "code",
      "source": [
        "### 'While' loops ###\n",
        "# \"As long as a condition is met, keep doing something.\"\n",
        "\n",
        "#i = 1\n",
        "#while i < 6:\n",
        "#  print(i)\n",
        "#  i += 1 # Increase the value of i by 1\n",
        "\n",
        "### Make sure that there is a way for the loop to end. Otherwise it will create\n",
        "### an infinite loop. For example:\n",
        "\n",
        "#i = 1\n",
        "#while i <= 5:\n",
        "#  print(i)\n",
        "\n",
        "### Here, the value of i never increments, so the loop will continue forever"
      ],
      "metadata": {
        "id": "dl3mEN5ou45l"
      },
      "execution_count": null,
      "outputs": []
    },
    {
      "cell_type": "code",
      "source": [],
      "metadata": {
        "id": "m1xpGeNE7hqz"
      },
      "execution_count": null,
      "outputs": []
    },
    {
      "cell_type": "code",
      "source": [
        "### Functions ###\n",
        "# User-defined operations\n",
        "\n",
        "#def squared_and_cubed(n):\n",
        "\n",
        "#  square = n ** 2\n",
        "#  print(str(n) + \" squared is \" + str(square)) # The container str() turns the element into a string\n",
        "\n",
        "#  cube = n ** 3\n",
        "#  print(str(n) + \" cubed is \" + str(cube))\n",
        "\n",
        "#squared_and_cubed(16)\n",
        "\n",
        "#def hello():\n",
        "#  name = input(\"What is your name?\")\n",
        "#  print(\"Hello \" + name + \"! Nice to meet you!\")\n",
        "\n",
        "#hello()"
      ],
      "metadata": {
        "id": "ofFr_P_Kx9Ho"
      },
      "execution_count": null,
      "outputs": []
    },
    {
      "cell_type": "code",
      "source": [],
      "metadata": {
        "id": "130aKiHOAXZq"
      },
      "execution_count": null,
      "outputs": []
    }
  ]
}